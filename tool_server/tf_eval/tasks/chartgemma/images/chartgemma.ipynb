{
 "cells": [
  {
   "cell_type": "code",
   "execution_count": 1,
   "id": "e26e8f30",
   "metadata": {},
   "outputs": [
    {
     "name": "stdout",
     "output_type": "stream",
     "text": [
      "✅ Done. Images saved to /home/lmoukheiber3/OpenThinkIMG/tool_server/tf_eval/tasks/chartgemma/images/, JSON saved to /home/lmoukheiber3/OpenThinkIMG/tool_server/tf_eval/tasks/chartgemma/metadata.json\n"
     ]
    }
   ],
   "source": [
    "import os\n",
    "import pandas as pd\n",
    "import io\n",
    "from PIL import Image\n",
    "import json\n",
    "\n",
    "# Paths\n",
    "parquet_path = \"/home/lmoukheiber3/OpenThinkIMG/OpenThinkIMG-Chart-Test-994/data/train-00000-of-00001.parquet\"\n",
    "image_dir = \"/home/lmoukheiber3/OpenThinkIMG/tool_server/tf_eval/tasks/chartgemma/images/\"\n",
    "json_out = \"/home/lmoukheiber3/OpenThinkIMG/tool_server/tf_eval/tasks/chartgemma/metadata.json\"\n",
    "\n",
    "# Create images folder if it doesn't exist\n",
    "os.makedirs(image_dir, exist_ok=True)\n",
    "\n",
    "# Load the parquet\n",
    "df = pd.read_parquet(parquet_path)\n",
    "\n",
    "# Prepare JSON list\n",
    "json_list = []\n",
    "\n",
    "for idx, row in df.iterrows():\n",
    "    # Extract image bytes\n",
    "    img_bytes = row[\"image\"][\"bytes\"]\n",
    "    image = Image.open(io.BytesIO(img_bytes))\n",
    "\n",
    "    # Save image with index matching row\n",
    "    img_filename = f\"image_{idx:05d}.png\"\n",
    "    img_path = os.path.join(image_dir, img_filename)\n",
    "    image.save(img_path)\n",
    "\n",
    "    # Convert label to string if list\n",
    "    label_value = row[\"label\"]\n",
    "    if isinstance(label_value, list):\n",
    "        label_value = \", \".join(map(str, label_value))\n",
    "\n",
    "    # Add JSON entry\n",
    "    json_list.append({\n",
    "        \"image_path\": img_path,\n",
    "        \"question\": row[\"question\"],\n",
    "        \"label\": f\"<answer> {label_value} </answer>\"\n",
    "    })\n",
    "\n",
    "# Save JSON\n",
    "with open(json_out, \"w\") as f:\n",
    "    json.dump(json_list, f, indent=4)\n",
    "\n",
    "print(f\"✅ Done. Images saved to {image_dir}, JSON saved to {json_out}\")\n"
   ]
  },
  {
   "cell_type": "code",
   "execution_count": null,
   "id": "0a2274bf",
   "metadata": {},
   "outputs": [],
   "source": []
  }
 ],
 "metadata": {
  "kernelspec": {
   "display_name": "qwen-eval",
   "language": "python",
   "name": "python3"
  },
  "language_info": {
   "codemirror_mode": {
    "name": "ipython",
    "version": 3
   },
   "file_extension": ".py",
   "mimetype": "text/x-python",
   "name": "python",
   "nbconvert_exporter": "python",
   "pygments_lexer": "ipython3",
   "version": "3.10.18"
  }
 },
 "nbformat": 4,
 "nbformat_minor": 5
}
